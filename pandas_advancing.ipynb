{
 "cells": [
  {
   "cell_type": "code",
   "execution_count": null,
   "id": "3ada884f",
   "metadata": {
    "deletable": false,
    "editable": false
   },
   "outputs": [],
   "source": [
    "# Initialize Otter\n",
    "import otter\n",
    "grader = otter.Notebook(\"pandas_advancing.ipynb\")"
   ]
  },
  {
   "cell_type": "markdown",
   "id": "de2d6d30",
   "metadata": {
    "nbgrader": {
     "grade": false,
     "grade_id": "title-cell",
     "locked": true,
     "schema_version": 2,
     "solution": false
    }
   },
   "source": [
    "## Pandas advancing"
   ]
  },
  {
   "cell_type": "markdown",
   "id": "dd2aa1b0",
   "metadata": {},
   "source": [
    "### Notebook Walk-Through\n",
    "\n",
    "In addition to the notebook, we have also released a prerecorded walk-through\n",
    "video of the notebook. We encourage you to reference this video as you work through\n",
    "the notebook. Run the cell below to display the video.\n",
    "<br>\n",
    "**Note:** This video is recorded in Spring 2022. There may be slight\n",
    "inconsistencies between the version you are viewing versus the version used in\n",
    "the recording, but content is identical."
   ]
  },
  {
   "cell_type": "code",
   "execution_count": null,
   "id": "14fca35f",
   "metadata": {},
   "outputs": [],
   "source": [
    "from IPython.display import YouTubeVideo\n",
    "YouTubeVideo(\"MLUNk_D7KW0\", list = 'PLQCcNQgUcDfoWO3WVtznI7CBJmtNUqbAN', listType = 'playlist')"
   ]
  },
  {
   "cell_type": "markdown",
   "id": "023b5c3f",
   "metadata": {
    "nbgrader": {
     "grade": false,
     "grade_id": "outline-cell",
     "locked": true,
     "schema_version": 2,
     "solution": false
    }
   },
   "source": [
    "---\n",
    "\n",
    "[Pandas](https://pandas.pydata.org/) is one of the most widely used Python libraries in data science. In this notebook, you will review commonly used data-wrangling operations/tools in `Pandas`. We aim to give you familiarity with:\n",
    "\n",
    "* Creating DataFrames,\n",
    "* Slicing DataFrames (i.e., selecting rows and columns)\n",
    "* Filtering data (using Boolean arrays)\n",
    "\n",
    "In this notebook, you are going to use several pandas methods. Reminder from lecture that you may press `shift+tab` on method parameters to see the documentation for that method. For example, if you were using the `drop` method in pandas, you could press `shift+tab` to see what `drop` is expecting.\n",
    "\n",
    "`Pandas` is very similar to the `datascience` library that you saw in Data 8. This [conversion notebook](https://data100.datahub.berkeley.edu/hub/user-redirect/git-pull?repo=https%3A%2F%2Fgithub.com%2FDS-100%2Fsu23-materials&branch=main&urlpath=lab%2Ftree%2Fsu23-materials%2Flec%2Flec02%2Fdata8_translation_examples.ipynb) may serve as a useful guide!\n",
    "\n",
    "This notebook expects that you have watched the `Pandas I` and `II` lectures. If you have not, this notebook will probably take a very long time."
   ]
  },
  {
   "cell_type": "markdown",
   "id": "005d72e8",
   "metadata": {},
   "source": [
    "**Note**: The Pandas interface is notoriously confusing for beginners, and the documentation is not consistently great. Throughout the semester, you will have to search through Pandas documentation and experiment, but remember it is part of the learning experience and will help shape you as a data scientist!\n",
    "\n",
    "**This assignment seems long, but rest assured that a large part of it is a tutorial (i.e., we will guide you through many aspects of using `Pandas` in the most efficient way possible!).**"
   ]
  },
  {
   "cell_type": "code",
   "execution_count": null,
   "id": "331bc161",
   "metadata": {
    "nbgrader": {
     "grade": false,
     "grade_id": "imports",
     "locked": true,
     "schema_version": 2,
     "solution": false
    }
   },
   "outputs": [],
   "source": [
    "import numpy as np\n",
    "import matplotlib.pyplot as plt\n",
    "import pandas as pd\n",
    "pd.set_option('mode.copy_on_write', True)\n",
    "%matplotlib inline"
   ]
  },
  {
   "cell_type": "markdown",
   "id": "56f3357c",
   "metadata": {},
   "source": [
    "<hr style=\"border: 5px solid #003262;\" />\n",
    "<hr style=\"border: 1px solid #fdb515;\" />"
   ]
  },
  {
   "cell_type": "markdown",
   "id": "1be3c609",
   "metadata": {
    "nbgrader": {
     "grade": false,
     "grade_id": "basic_intro",
     "locked": true,
     "schema_version": 2,
     "solution": false
    }
   },
   "source": [
    "### **REVIEW:** Creating DataFrames & Basic Manipulations\n",
    "\n",
    "Recall that a [DataFrame](https://pandas.pydata.org/pandas-docs/stable/user_guide/dsintro.html#dataframe) is a table in which each column has a specific data type; there is an index over the columns (typically string labels) and an index over the rows (typically ordinal numbers).\n",
    "\n",
    "Usually, you'll create `DataFrames` by using a function like `pd.read_csv`. However, in this section, we'll discuss how to create them from scratch.\n",
    "\n",
    "The [documentation](https://pandas.pydata.org/pandas-docs/stable/reference/api/pandas.DataFrame.html) for the pandas `DataFrame` class provides several constructors for the `DataFrame` class."
   ]
  },
  {
   "cell_type": "markdown",
   "id": "b149e5b8",
   "metadata": {
    "nbgrader": {
     "grade": false,
     "grade_id": "basic_method1",
     "locked": true,
     "schema_version": 2,
     "solution": false
    }
   },
   "source": [
    "**Syntax 1:** You can create a `DataFrame` by specifying the columns and values using a dictionary, as shown below. \n",
    "\n",
    "The keys of the dictionary are the column names, and the values of the dictionary are lists containing the row entries."
   ]
  },
  {
   "cell_type": "code",
   "execution_count": null,
   "id": "a333a4de",
   "metadata": {
    "nbgrader": {
     "grade": false,
     "grade_id": "basic_method1_code",
     "locked": true,
     "schema_version": 2,
     "solution": false
    }
   },
   "outputs": [],
   "source": [
    "fruit_info = pd.DataFrame(\n",
    "    data = {'fruit': ['apple', 'orange', 'banana', 'raspberry'],\n",
    "          'color': ['red', 'orange', 'yellow', 'pink'],\n",
    "          'price': [1.0, 0.75, 0.35, 0.05]\n",
    "          })\n",
    "fruit_info"
   ]
  },
  {
   "cell_type": "markdown",
   "id": "6c35f7c5",
   "metadata": {
    "nbgrader": {
     "grade": false,
     "grade_id": "basic_method2",
     "locked": true,
     "schema_version": 2,
     "solution": false
    }
   },
   "source": [
    "**Syntax 2:** You can also define a `DataFrame` by specifying the rows as shown below. \n",
    "\n",
    "Each row corresponds to a distinct tuple, and the columns are specified separately."
   ]
  },
  {
   "cell_type": "code",
   "execution_count": null,
   "id": "7a4bfccc",
   "metadata": {
    "nbgrader": {
     "grade": false,
     "grade_id": "basic_method2_code",
     "locked": true,
     "schema_version": 2,
     "solution": false
    }
   },
   "outputs": [],
   "source": [
    "fruit_info2 = pd.DataFrame(\n",
    "    [(\"red\", \"apple\", 1.0), (\"orange\", \"orange\", 0.75), (\"yellow\", \"banana\", 0.35),\n",
    "     (\"pink\", \"raspberry\", 0.05)], \n",
    "    columns = [\"color\", \"fruit\", \"price\"])\n",
    "fruit_info2"
   ]
  },
  {
   "cell_type": "markdown",
   "id": "0d483840",
   "metadata": {
    "nbgrader": {
     "grade": false,
     "grade_id": "basic_shape",
     "locked": true,
     "schema_version": 2,
     "solution": false
    }
   },
   "source": [
    "You can obtain the dimensions of a `DataFrame` by using the shape attribute `DataFrame.shape`."
   ]
  },
  {
   "cell_type": "code",
   "execution_count": null,
   "id": "8869824d",
   "metadata": {
    "nbgrader": {
     "grade": false,
     "grade_id": "basic_shape_code",
     "locked": true,
     "schema_version": 2,
     "solution": false
    }
   },
   "outputs": [],
   "source": [
    "fruit_info.shape"
   ]
  },
  {
   "cell_type": "markdown",
   "id": "1587d9c0",
   "metadata": {},
   "source": [
    "You can also convert the entire `DataFrame` into a two-dimensional `NumPy` array. Remeber that a `Numpy` array can hold homogenous data wheras a `DataFrame` can contain heterogeneous data. "
   ]
  },
  {
   "cell_type": "code",
   "execution_count": null,
   "id": "5f54a85d",
   "metadata": {},
   "outputs": [],
   "source": [
    "numbers = pd.DataFrame({\"A\":[1, 2, 3], \"B\":[0, 1, 1]})\n",
    "numpy_numbers = numbers.to_numpy()\n",
    "\n",
    "print(type(numpy_numbers))\n",
    "print(numpy_numbers)"
   ]
  },
  {
   "cell_type": "markdown",
   "id": "8802f27f",
   "metadata": {},
   "source": [
    "The `values` attribute returns the content of the `DataFrame` in the form of a list of lists."
   ]
  },
  {
   "cell_type": "code",
   "execution_count": null,
   "id": "618c0ea6",
   "metadata": {},
   "outputs": [],
   "source": [
    "fruit_info.values"
   ]
  },
  {
   "cell_type": "markdown",
   "id": "9e82483f",
   "metadata": {},
   "source": [
    "There are other constructors but we do not discuss them here."
   ]
  },
  {
   "cell_type": "markdown",
   "id": "57d20110",
   "metadata": {},
   "source": [
    "### **REVIEW:** Selecting Rows and Columns in Pandas"
   ]
  },
  {
   "cell_type": "markdown",
   "id": "4a4b37c7",
   "metadata": {},
   "source": [
    "As you've seen, there are two verbose operators in Python for selecting rows:\n",
    "`loc` and `iloc`. Let's review them briefly."
   ]
  },
  {
   "cell_type": "markdown",
   "id": "5d7f4b51",
   "metadata": {},
   "source": [
    "**Approach 1:** `loc`"
   ]
  },
  {
   "cell_type": "markdown",
   "id": "220541b8",
   "metadata": {},
   "source": [
    "The first of the two verbose operators is `loc`, which takes two arguments. The first is one or more **row labels**, the second is one or more **column labels** - both of which are displayed in bold to the left of each of the rows and above each of the columns, respectively. These are not the same as positional indices, which are used for indexing Python lists or `NumPy` arrays!\n",
    "\n",
    "The desired rows or columns can be provided individually, in slice notation, or as a list. Some examples are given below.\n",
    "\n",
    "Note that **slicing in `loc` is inclusive** on the provided labels."
   ]
  },
  {
   "cell_type": "code",
   "execution_count": null,
   "id": "3fe3b37f",
   "metadata": {},
   "outputs": [],
   "source": [
    "# Get rows 0 through 2 (inclusive) with labels 'fruit' through 'price' (which would include the color column that is in between both labels)\n",
    "fruit_info.loc[0:2, 'fruit':'price']"
   ]
  },
  {
   "cell_type": "code",
   "execution_count": null,
   "id": "b9562765",
   "metadata": {},
   "outputs": [],
   "source": [
    "# Get rows 0 through 2 (inclusive) and columns 'fruit' and 'price'. \n",
    "# Note the difference in notation and result from the previous example.\n",
    "fruit_info.loc[0:2, ['fruit', 'price']]"
   ]
  },
  {
   "cell_type": "code",
   "execution_count": null,
   "id": "56c68cbc",
   "metadata": {},
   "outputs": [],
   "source": [
    "# Get rows 0 and 2 and columns fruit and price. \n",
    "fruit_info.loc[[0, 2], ['fruit', 'price']]"
   ]
  },
  {
   "cell_type": "code",
   "execution_count": null,
   "id": "5b5fe80b",
   "metadata": {},
   "outputs": [],
   "source": [
    "# Get rows 0 and 2 and column fruit\n",
    "fruit_info.loc[[0, 2], ['fruit']]"
   ]
  },
  {
   "cell_type": "markdown",
   "id": "2e2854d8",
   "metadata": {},
   "source": [
    "Note that if we request a single column but don't enclose it in a list, the return type of the `loc` operator is a `Series` rather than a `DataFrame`. "
   ]
  },
  {
   "cell_type": "code",
   "execution_count": null,
   "id": "ae217e14",
   "metadata": {},
   "outputs": [],
   "source": [
    "# Get rows 0 and 2 and column fruit, returning the result as a Series\n",
    "fruit_info.loc[[0, 2], 'fruit']"
   ]
  },
  {
   "cell_type": "markdown",
   "id": "295b7aad",
   "metadata": {},
   "source": [
    "If we provide only one argument to `loc`, it uses the provided argument to select rows, and returns all columns."
   ]
  },
  {
   "cell_type": "code",
   "execution_count": null,
   "id": "a73cd9b4",
   "metadata": {},
   "outputs": [],
   "source": [
    "fruit_info.loc[0:1]"
   ]
  },
  {
   "cell_type": "markdown",
   "id": "a430db57",
   "metadata": {},
   "source": [
    "Note that if you try to access columns without providing rows, `loc` will crash. "
   ]
  },
  {
   "cell_type": "code",
   "execution_count": null,
   "id": "a7857ac0",
   "metadata": {},
   "outputs": [],
   "source": [
    "# Uncomment, this code will crash\n",
    "#fruit_info.loc[[\"fruit\", \"price\"]]\n",
    "\n",
    "# Uncomment, this code works fine: \n",
    "#fruit_info.loc[:, [\"fruit\", \"price\"]]"
   ]
  },
  {
   "cell_type": "markdown",
   "id": "c145251e",
   "metadata": {},
   "source": [
    "<br/>\n",
    "\n",
    "**Approach 2:** `iloc`"
   ]
  },
  {
   "cell_type": "markdown",
   "id": "1c89cd44",
   "metadata": {},
   "source": [
    "`iloc` is very similar to `loc` except that its arguments are **row numbers** and **column numbers**, rather than row and column labels. A useful mnemonic is that the `i` stands for \"integer\". This is quite similar to indexing into a Python `list` or `NumPy` array.\n",
    "\n",
    "In addition, **slicing for `iloc` is exclusive** on the provided integer indices. Some examples are given below:"
   ]
  },
  {
   "cell_type": "code",
   "execution_count": null,
   "id": "46d4509e",
   "metadata": {},
   "outputs": [],
   "source": [
    "# Get rows 0 through 3 (exclusive) and columns 0 through 3 (exclusive)\n",
    "fruit_info.iloc[0:3, 0:3]"
   ]
  },
  {
   "cell_type": "code",
   "execution_count": null,
   "id": "6d1a8ce7",
   "metadata": {},
   "outputs": [],
   "source": [
    "# Get rows 0 through 3 (exclusive) and columns 0 and 2.\n",
    "fruit_info.iloc[0:3, [0, 2]]"
   ]
  },
  {
   "cell_type": "code",
   "execution_count": null,
   "id": "e85bb60f",
   "metadata": {},
   "outputs": [],
   "source": [
    "# Get rows 0 and 2 and columns 0 and 2.\n",
    "fruit_info.iloc[[0, 2], [0, 2]]"
   ]
  },
  {
   "cell_type": "code",
   "execution_count": null,
   "id": "26fb222c",
   "metadata": {},
   "outputs": [],
   "source": [
    "# Get rows 0 and 2 and column fruit\n",
    "fruit_info.iloc[[0, 2], [0]]"
   ]
  },
  {
   "cell_type": "code",
   "execution_count": null,
   "id": "3b9e2ce1",
   "metadata": {},
   "outputs": [],
   "source": [
    "# Get rows 0 and 2 and column fruit\n",
    "fruit_info.iloc[[0, 2], 0]"
   ]
  },
  {
   "cell_type": "markdown",
   "id": "62d179c8",
   "metadata": {},
   "source": [
    "Note that in these `loc` and `iloc` examples above, the row **label** and row **number** were always the same.\n",
    "\n",
    "Let's see an example where they are different. If we sort our fruits by price, we get:"
   ]
  },
  {
   "cell_type": "code",
   "execution_count": null,
   "id": "92b762d0",
   "metadata": {},
   "outputs": [],
   "source": [
    "fruit_info_sorted = fruit_info.sort_values(\"price\")\n",
    "fruit_info_sorted"
   ]
  },
  {
   "cell_type": "markdown",
   "id": "090b2e7a",
   "metadata": {},
   "source": [
    "After sorting, note how row number 0 now has index label 3, row number 1 now has index label 2, etc. These indices are the arbitrary numerical indices generated when we created the `DataFrame`. For example, `banana` was originally in row 2, and so it has row label 2. Note the distinction between the index _label_, and the actual index _position_."
   ]
  },
  {
   "cell_type": "markdown",
   "id": "28cfdcd9",
   "metadata": {},
   "source": [
    "If we request the rows in positions 0 and 2 using `iloc`, we're indexing using the row NUMBERS, not labels. "
   ]
  },
  {
   "cell_type": "code",
   "execution_count": null,
   "id": "e6fb9e16",
   "metadata": {},
   "outputs": [],
   "source": [
    "fruit_info_sorted.iloc[[0, 2], 0]"
   ]
  },
  {
   "cell_type": "markdown",
   "id": "45f8194b",
   "metadata": {},
   "source": [
    "Lastly, similar to `loc`, the second argument to `iloc` is optional. That is, if you provide only one argument to `iloc`, it treats the argument you provide as a set of desired row numbers, not column numbers."
   ]
  },
  {
   "cell_type": "code",
   "execution_count": null,
   "id": "dcc7f1b7",
   "metadata": {},
   "outputs": [],
   "source": [
    "fruit_info_sorted.iloc[[0, 2]]"
   ]
  },
  {
   "cell_type": "markdown",
   "id": "b3082565",
   "metadata": {},
   "source": [
    "**Approach 3:** `[]` Notation for Accessing Rows and Columns"
   ]
  },
  {
   "cell_type": "markdown",
   "id": "37ca29ec",
   "metadata": {},
   "source": [
    "`Pandas` also supports the `[]` operator. It's similar to `loc` in that it lets you access rows and columns by their name.\n",
    "\n",
    "However, unlike `loc`, which takes row names and also optionally column names, `[]` is more flexible. If you provide it only row names, it'll give you rows (same behavior as `loc`), and if you provide it with only column names, it'll give you columns (whereas `loc` will crash).\n",
    "\n",
    "Some examples:"
   ]
  },
  {
   "cell_type": "code",
   "execution_count": null,
   "id": "9a1205bd",
   "metadata": {},
   "outputs": [],
   "source": [
    "fruit_info[0:2]"
   ]
  },
  {
   "cell_type": "code",
   "execution_count": null,
   "id": "a89d331c",
   "metadata": {},
   "outputs": [],
   "source": [
    "# Here we're providing a list of fruits as single argument to []\n",
    "fruit_info[[\"fruit\", \"color\", \"price\"]]"
   ]
  },
  {
   "cell_type": "markdown",
   "id": "807fb21a",
   "metadata": {},
   "source": [
    "Note that slicing notation is not supported for columns if you use `[]` notation. Use `loc` instead."
   ]
  },
  {
   "cell_type": "code",
   "execution_count": null,
   "id": "be84b57c",
   "metadata": {},
   "outputs": [],
   "source": [
    "# Uncomment and this code crashes\n",
    "#fruit_info[\"fruit\":\"price\"]\n",
    "\n",
    "# Uncomment and this works fine\n",
    "#fruit_info.loc[:, \"fruit\":\"price\"]"
   ]
  },
  {
   "cell_type": "markdown",
   "id": "b1c72fd8",
   "metadata": {},
   "source": [
    "`[]` and `loc` are quite similar. For example, the following two pieces of code are functionally equivalent for selecting the fruit and price columns.\n",
    "\n",
    "1. `fruit_info[[\"fruit\", \"price\"]]` \n",
    "2. `fruit_info.loc[:, [\"fruit\", \"price\"]]`.\n",
    "\n",
    "Because it yields more concise code, you'll find that our code and your code both tend to feature `[]`. However, there are some subtle pitfalls of using `[]`. If you're ever having performance issues, weird behavior, or you see a `SettingWithCopyWarning` in pandas, switch from `[]` to `loc`, and this may help.\n",
    "\n",
    "To avoid getting too bogged down in indexing syntax, we'll avoid a more thorough discussion of `[]` and `loc`. We may return to this at a later point in the course.\n",
    "\n",
    "For more on `[]` vs. `loc`, you may optionally try reading:\n",
    "1. https://stackoverflow.com/questions/48409128/what-is-the-difference-between-using-loc-and-using-just-square-brackets-to-filte\n",
    "2. https://stackoverflow.com/questions/38886080/python-pandas-series-why-use-loc/65875826#65875826\n",
    "3. https://stackoverflow.com/questions/20625582/how-to-deal-with-settingwithcopywarning-in-pandas/53954986#53954986"
   ]
  },
  {
   "cell_type": "markdown",
   "id": "58cf3e0c",
   "metadata": {},
   "source": [
    "Now that we've reviewed basic indexing, let's discuss how we can modify dataframes. We'll do this via a series of exercises. "
   ]
  },
  {
   "cell_type": "markdown",
   "id": "8c3ecb29",
   "metadata": {
    "deletable": false,
    "editable": false
   },
   "source": [
    "---\n",
    "### Question 1a\n",
    "\n",
    "For a DataFrame `d`, you can add a column with `d['new column name'] = ...` and assign a `list` or `array` of values to the column. Add a column of integers containing 1, 2, 3, and 4 called `rank1` to the `fruit_info` table, which expresses **your personal preference** about the taste ordering for each fruit (1 is tastiest; 4 is least tasty). There is no right order, it is completely your choice of rankings.\n"
   ]
  },
  {
   "cell_type": "code",
   "execution_count": null,
   "id": "6b0b6a8b",
   "metadata": {
    "nbgrader": {
     "grade": false,
     "grade_id": "q1_answer",
     "locked": false,
     "schema_version": 2,
     "solution": true
    },
    "tags": [
     "solution"
    ]
   },
   "outputs": [],
   "source": [
    "...\n",
    "# Show the result\n",
    "fruit_info"
   ]
  },
  {
   "cell_type": "code",
   "execution_count": null,
   "id": "5ade4102",
   "metadata": {
    "deletable": false,
    "editable": false
   },
   "outputs": [],
   "source": [
    "grader.check(\"q1a\")"
   ]
  },
  {
   "cell_type": "markdown",
   "id": "12cdd5fb",
   "metadata": {
    "deletable": false,
    "editable": false
   },
   "source": [
    "---\n",
    "### Question 1b\n",
    "\n",
    "You can also add a column to `d` with `d.loc[:, 'new column name'] = ...`. As above, the first parameter is for the rows, and the second is for columns. The `:` means changing all rows, and the `'new column name'` indicates the name of the column you are modifying (or, in this case, adding). \n",
    "\n",
    "Add a column called `rank2` to the `fruit_info` table, which contains the same values in the same order as the `rank1` column.\n"
   ]
  },
  {
   "cell_type": "code",
   "execution_count": null,
   "id": "9891c6c1",
   "metadata": {
    "nbgrader": {
     "grade": false,
     "grade_id": "cell-ef625b2f6154e9b2",
     "locked": false,
     "schema_version": 2,
     "solution": true
    }
   },
   "outputs": [],
   "source": [
    "...\n",
    "# Show the result\n",
    "fruit_info"
   ]
  },
  {
   "cell_type": "code",
   "execution_count": null,
   "id": "71492151",
   "metadata": {
    "deletable": false,
    "editable": false
   },
   "outputs": [],
   "source": [
    "grader.check(\"q1b\")"
   ]
  },
  {
   "cell_type": "markdown",
   "id": "516910fb",
   "metadata": {
    "deletable": false,
    "editable": false
   },
   "source": [
    "---\n",
    "### Question 2\n",
    "\n",
    "Use the `.drop()` method to [drop](https://pandas.pydata.org/pandas-docs/stable/reference/api/pandas.DataFrame.drop.html) both the `rank1` and `rank2` columns you created. Make sure to use the `axis` parameter correctly. Note that `drop` does not change a table but instead returns a new table with fewer columns or rows unless you set the optional `inplace` argument.\n",
    "\n",
    "**Hint:** Look through the [documentation](https://pandas.pydata.org/docs/reference/api/pandas.DataFrame.drop.html) to see how you can drop multiple columns of a `DataFrame` at once using a list of column names.\n"
   ]
  },
  {
   "cell_type": "code",
   "execution_count": null,
   "id": "3663111b",
   "metadata": {
    "nbgrader": {
     "grade": false,
     "grade_id": "q2_answer",
     "locked": false,
     "schema_version": 2,
     "solution": true
    },
    "tags": [
     "solution"
    ]
   },
   "outputs": [],
   "source": [
    "fruit_info_original = ...\n",
    "# Show the result\n",
    "fruit_info_original"
   ]
  },
  {
   "cell_type": "code",
   "execution_count": null,
   "id": "b33b5fd7",
   "metadata": {
    "deletable": false,
    "editable": false
   },
   "outputs": [],
   "source": [
    "grader.check(\"q2\")"
   ]
  },
  {
   "cell_type": "markdown",
   "id": "aa2183ed",
   "metadata": {
    "deletable": false,
    "editable": false
   },
   "source": [
    "---\n",
    "\n",
    "### Question 3\n",
    "\n",
    "Use the `.rename()` method to rename the columns of `fruit_info_original` so they begin with capital letters. Set this new `DataFrame` to `fruit_info_caps`. For an example of how to use rename, see this linked [documentation](https://pandas.pydata.org/pandas-docs/stable/reference/api/pandas.DataFrame.rename.html)."
   ]
  },
  {
   "cell_type": "code",
   "execution_count": null,
   "id": "987aa126",
   "metadata": {
    "nbgrader": {
     "grade": false,
     "grade_id": "q3_answer",
     "locked": false,
     "schema_version": 2,
     "solution": true
    },
    "tags": [
     "solution"
    ]
   },
   "outputs": [],
   "source": [
    "...\n",
    "...\n",
    "fruit_info_caps = ...\n",
    "# Show the result\n",
    "fruit_info_caps"
   ]
  },
  {
   "cell_type": "code",
   "execution_count": null,
   "id": "535e3923",
   "metadata": {
    "deletable": false,
    "editable": false
   },
   "outputs": [],
   "source": [
    "grader.check(\"q3\")"
   ]
  },
  {
   "cell_type": "markdown",
   "id": "fb9cc306",
   "metadata": {
    "nbgrader": {
     "grade": false,
     "grade_id": "babyname_dataset",
     "locked": true,
     "schema_version": 2,
     "solution": false
    }
   },
   "source": [
    "### Babynames Dataset\n",
    "\n",
    "For the next few questions of this notebook, let's move on to a real-world\n",
    "dataset. We'll be using a dataset of baby names. The babynames dataset contains\n",
    "a record of the given names of babies born in the United States each year.\n",
    "\n",
    "First, let's run the following cells to build the DataFrame `babynames`. The\n",
    "cells below download the data from the web and extract the data into\n",
    "a `DataFrame`. There should be a total of 6408041 records."
   ]
  },
  {
   "cell_type": "markdown",
   "id": "380ff507",
   "metadata": {
    "nbgrader": {
     "grade": false,
     "grade_id": "fetch_and_cache",
     "locked": true,
     "schema_version": 2,
     "solution": false
    }
   },
   "source": [
    "#### `fetch_and_cache`\n",
    "\n",
    "The following function downloads and caches data in the `data/` directory and returns the `Path` to the downloaded file. The cell below the function describes how it works. You are not expected to understand this code, but you may find it useful as a reference as a practitioner of data science after the course. The cell and text below are solely optional reading if you're curious about how the function works."
   ]
  },
  {
   "cell_type": "code",
   "execution_count": null,
   "id": "12adc94f",
   "metadata": {
    "nbgrader": {
     "grade": false,
     "grade_id": "fetch_and_cache_code",
     "locked": true,
     "schema_version": 2,
     "solution": false
    }
   },
   "outputs": [],
   "source": [
    "import requests\n",
    "from pathlib import Path\n",
    "\n",
    "def fetch_and_cache(data_url, file, data_dir=\"data\", force=False):\n",
    "    \"\"\"\n",
    "    Download and cache a URL and return the file object.\n",
    "\n",
    "    Parameters\n",
    "    ----------\n",
    "    data_url: The web address to download.\n",
    "    file: The file in which to save the results.\n",
    "    data_dir: (default=\"data\") The location to save the data.\n",
    "    force: If true, the file is always re-downloaded. \n",
    "\n",
    "    Returns\n",
    "    -------\n",
    "    pth: The pathlib.Path to the file.\n",
    "    \"\"\"\n",
    "    data_dir = Path(data_dir)\n",
    "    data_dir.mkdir(exist_ok=True)\n",
    "    file_path = data_dir/Path(file)\n",
    "    if force and file_path.exists():\n",
    "        file_path.unlink()\n",
    "    if force or not file_path.exists():\n",
    "        print('Downloading...', end=' ')\n",
    "        resp = requests.get(data_url)\n",
    "        with file_path.open('wb') as f:\n",
    "            f.write(resp.content)\n",
    "        print('Done!')\n",
    "    else:\n",
    "        import time \n",
    "        created = time.ctime(file_path.stat().st_ctime)\n",
    "        print(\"Using cached version downloaded at\", created)\n",
    "    return file_path"
   ]
  },
  {
   "cell_type": "markdown",
   "id": "f576b8b4",
   "metadata": {
    "nbgrader": {
     "grade": false,
     "grade_id": "cell-18d54d536c23da04",
     "locked": true,
     "schema_version": 2,
     "solution": false
    }
   },
   "source": [
    "In Python, a `Path` object represents the filesystem paths to files (and other resources). The `pathlib` module is effective for writing code that works on different operating systems and filesystems.\n",
    "\n",
    "To check if a file exists at a path, use `.exists()`. To create a directory for\n",
    "a path, use `.mkdir()`. To remove a file that might - or might not - be\n",
    "a [symbolic link](https://en.wikipedia.org/wiki/Symbolic_link), use\n",
    "`.unlink()`.\n",
    "\n",
    "This function creates a path to a directory that will contain data files. It ensures that the directory exists (which is required to write files in that directory), then proceeds to download the file based on its URL.\n",
    "\n",
    "The benefit of this function is that not only can you force when you want a new file to be downloaded using the `force` parameter, but in cases when you don't need the file to be re-downloaded, you can use the cached version and save download time."
   ]
  },
  {
   "cell_type": "markdown",
   "id": "0a864238",
   "metadata": {
    "nbgrader": {
     "grade": false,
     "grade_id": "download_data",
     "locked": true,
     "schema_version": 2,
     "solution": false
    }
   },
   "source": [
    "Below, we use `fetch_and_cache` to download the `namesbystate.zip` zip file, which is a compressed directory of CSV files. \n",
    "\n",
    "Note: This might take a little while! Consider stretching."
   ]
  },
  {
   "cell_type": "code",
   "execution_count": null,
   "id": "84fb7168",
   "metadata": {
    "nbgrader": {
     "grade": false,
     "grade_id": "download_data_code",
     "locked": true,
     "schema_version": 2,
     "solution": false
    }
   },
   "outputs": [],
   "source": [
    "data_url = 'https://www.ssa.gov/oact/babynames/state/namesbystate.zip'\n",
    "namesbystate_path = fetch_and_cache(data_url, 'namesbystate.zip')"
   ]
  },
  {
   "cell_type": "markdown",
   "id": "74eeb5de",
   "metadata": {
    "nbgrader": {
     "grade": false,
     "grade_id": "build_df",
     "locked": true,
     "schema_version": 2,
     "solution": false
    }
   },
   "source": [
    "The following cell builds the final full `babynames` DataFrame. It first builds one `DataFrame` per state because that's how the data are stored in the zip file. Here is the documentation for [pd.concat](https://pandas.pydata.org/pandas-docs/version/1.2/reference/api/pandas.concat.html) if you want to know more about its functionality. As before, you are not expected to understand this code. "
   ]
  },
  {
   "cell_type": "code",
   "execution_count": null,
   "id": "da0e5604",
   "metadata": {
    "nbgrader": {
     "grade": false,
     "grade_id": "build_df_code",
     "locked": true,
     "schema_version": 2,
     "solution": false
    }
   },
   "outputs": [],
   "source": [
    "import zipfile\n",
    "zf = zipfile.ZipFile(namesbystate_path, 'r')\n",
    "\n",
    "column_labels = ['State', 'Sex', 'Year', 'Name', 'Count']\n",
    "\n",
    "def load_dataframe_from_zip(zf, f):\n",
    "    with zf.open(f) as fh: \n",
    "        return pd.read_csv(fh, header=None, names=column_labels)\n",
    "\n",
    "states = [\n",
    "    load_dataframe_from_zip(zf, f)\n",
    "    for f in sorted(zf.filelist, key=lambda x:x.filename) \n",
    "    if f.filename.endswith('.TXT')\n",
    "]\n",
    "\n",
    "babynames = states[0]\n",
    "for state_df in states[1:]:\n",
    "    babynames = pd.concat([babynames, state_df])\n",
    "babynames = babynames.reset_index().iloc[:, 1:]"
   ]
  },
  {
   "cell_type": "code",
   "execution_count": null,
   "id": "ec44b964",
   "metadata": {
    "nbgrader": {
     "grade": false,
     "grade_id": "build_df_check_len",
     "locked": true,
     "schema_version": 2,
     "solution": false
    }
   },
   "outputs": [],
   "source": [
    "len(babynames)"
   ]
  },
  {
   "cell_type": "code",
   "execution_count": null,
   "id": "707504c4",
   "metadata": {},
   "outputs": [],
   "source": [
    "babynames.head()"
   ]
  },
  {
   "cell_type": "markdown",
   "id": "35559653",
   "metadata": {
    "nbgrader": {
     "grade": false,
     "grade_id": "slicing_text",
     "locked": true,
     "schema_version": 2,
     "solution": false
    }
   },
   "source": [
    "#### Selection Examples on Baby Names"
   ]
  },
  {
   "cell_type": "markdown",
   "id": "2d2a50da",
   "metadata": {},
   "source": [
    "As with our synthetic fruit dataset, we can use `loc` and `iloc` to select rows and columns of interest from our dataset."
   ]
  },
  {
   "cell_type": "code",
   "execution_count": null,
   "id": "8da665c9",
   "metadata": {
    "nbgrader": {
     "grade": false,
     "grade_id": "slicing_e1",
     "locked": true,
     "schema_version": 2,
     "solution": false
    }
   },
   "outputs": [],
   "source": [
    "babynames.loc[2:5, 'Name']"
   ]
  },
  {
   "cell_type": "markdown",
   "id": "f786cd5c",
   "metadata": {},
   "source": [
    "Notice the difference between the following cell and the previous one; just passing in `'Name'` returns a `Series` while `['Name']` returns a `DataFrame`."
   ]
  },
  {
   "cell_type": "code",
   "execution_count": null,
   "id": "3d457b0e",
   "metadata": {
    "nbgrader": {
     "grade": false,
     "grade_id": "slicing_e2",
     "locked": true,
     "schema_version": 2,
     "solution": false
    }
   },
   "outputs": [],
   "source": [
    "babynames.loc[2:5, ['Name']]"
   ]
  },
  {
   "cell_type": "markdown",
   "id": "6b84d5a1",
   "metadata": {},
   "source": [
    "The code below collects the rows in positions 1 through 3, and the column in position 3 (\"Name\")."
   ]
  },
  {
   "cell_type": "code",
   "execution_count": null,
   "id": "18ce0bda",
   "metadata": {
    "nbgrader": {
     "grade": false,
     "grade_id": "cell-1292533181dbd2eb",
     "locked": true,
     "schema_version": 2,
     "solution": false
    }
   },
   "outputs": [],
   "source": [
    "babynames.iloc[1:4, [3]]"
   ]
  },
  {
   "cell_type": "markdown",
   "id": "45a06500",
   "metadata": {
    "deletable": false,
    "editable": false
   },
   "source": [
    "---\n",
    "\n",
    "### Question 4a\n",
    "\n",
    "Use `.loc` to select `Name` and `Year` **in that order** from the `babynames` table.\n"
   ]
  },
  {
   "cell_type": "code",
   "execution_count": null,
   "id": "0ef0cf36",
   "metadata": {
    "nbgrader": {
     "grade": false,
     "grade_id": "q4_answer",
     "locked": false,
     "schema_version": 2,
     "solution": true
    }
   },
   "outputs": [],
   "source": [
    "name_and_year = ...\n",
    "# Show the result\n",
    "name_and_year[:5]"
   ]
  },
  {
   "cell_type": "code",
   "execution_count": null,
   "id": "c1625986",
   "metadata": {
    "deletable": false,
    "editable": false
   },
   "outputs": [],
   "source": [
    "grader.check(\"q4a\")"
   ]
  },
  {
   "cell_type": "markdown",
   "id": "f2d0797b",
   "metadata": {
    "deletable": false,
    "editable": false
   },
   "source": [
    "---\n",
    "\n",
    "### Question 4b\n",
    "\n",
    "Now repeat the same selection using the plain `[]` notation."
   ]
  },
  {
   "cell_type": "code",
   "execution_count": null,
   "id": "b7de1280",
   "metadata": {},
   "outputs": [],
   "source": [
    "name_and_year = ...\n",
    "# Show the result\n",
    "name_and_year[:5]"
   ]
  },
  {
   "cell_type": "code",
   "execution_count": null,
   "id": "44970da2",
   "metadata": {
    "deletable": false,
    "editable": false
   },
   "outputs": [],
   "source": [
    "grader.check(\"q4b\")"
   ]
  },
  {
   "cell_type": "markdown",
   "id": "45e9d179",
   "metadata": {
    "nbgrader": {
     "grade": false,
     "grade_id": "filter_data_op",
     "locked": true,
     "schema_version": 2,
     "solution": false
    }
   },
   "source": [
    "### **REVIEW**: Filtering with boolean arrays\n",
    "\n",
    "Filtering is the process of removing unwanted entries. In your quest for cleaner data, you will undoubtedly filter your data at some point: whether it be for clearing up cases with missing values, for culling out fishy outliers, or for analyzing subgroups of your dataset. Example usage looks like `df[df['column name'] < 5]`.\n",
    "\n",
    "For your reference, some commonly used comparison operators are given below.\n",
    "\n",
    "Symbol | Usage      | Meaning\n",
    "------ | ---------- | -------------------------------------\n",
    "==   | a == b   | Does a equal b?\n",
    "<=   | a <= b   | Is a less than or equal to b?\n",
    "&gt;=   | a >= b   | Is a greater than or equal to b?\n",
    "<    | a < b    | Is a less than b?\n",
    "&#62;    | a &#62; b    | Is a greater than b?\n",
    "~    | ~p       | Returns negation of p\n",
    "&#124; | p &#124; q | p OR q\n",
    "&    | p & q    | p AND q\n",
    "^  | p ^ q | p XOR q (exclusive or)\n"
   ]
  },
  {
   "cell_type": "markdown",
   "id": "37866323",
   "metadata": {
    "nbgrader": {
     "grade": false,
     "grade_id": "filter_ca",
     "locked": true,
     "schema_version": 2,
     "solution": false
    }
   },
   "source": [
    "In the following, we construct the `DataFrame` containing only names registered in California."
   ]
  },
  {
   "cell_type": "code",
   "execution_count": null,
   "id": "4eaac11a",
   "metadata": {
    "nbgrader": {
     "grade": false,
     "grade_id": "filter_ca_code",
     "locked": true,
     "schema_version": 2,
     "solution": false
    }
   },
   "outputs": [],
   "source": [
    "ca = babynames[babynames['State'] == 'CA']\n",
    "ca.head(5)"
   ]
  },
  {
   "cell_type": "markdown",
   "id": "b5696f55",
   "metadata": {
    "deletable": false,
    "editable": false
   },
   "source": [
    "---\n",
    "\n",
    "### Question 5\n",
    "\n",
    "Using a Boolean array, select the names in Year 2000 (from `babynames`) that have larger than 3000 counts. Keep all columns from the original `babynames` DataFrame.\n",
    "\n",
    "_Note_: Note that compound expressions have to be grouped with parentheses. That is, any time you use `p & q` to filter the `DataFrame`, make sure to use `df[(df[p]) & (df[q])]` or `df.loc[(df[p]) & (df[q])]`.  See [combining Boolean arrays](https://lisds.github.io/textbook/mean-slopes/combining_boolean_arrays.html) for more detail.\n",
    "\n",
    "You may use either `[]` or `loc`. Both will achieve the same result. For more on `[]` vs. `loc`, see the stack overflow links from the intro portion of this lab."
   ]
  },
  {
   "cell_type": "code",
   "execution_count": null,
   "id": "e2311f6a",
   "metadata": {
    "nbgrader": {
     "grade": false,
     "grade_id": "q5a_answer",
     "locked": false,
     "schema_version": 2,
     "solution": true
    }
   },
   "outputs": [],
   "source": [
    "result = ...\n",
    "# Show the result\n",
    "result.head()"
   ]
  },
  {
   "cell_type": "code",
   "execution_count": null,
   "id": "8883f55d",
   "metadata": {
    "deletable": false,
    "editable": false
   },
   "outputs": [],
   "source": [
    "grader.check(\"q5\")"
   ]
  },
  {
   "cell_type": "markdown",
   "id": "1bad3c34",
   "metadata": {},
   "source": [
    "### **REVIEW:** `str`\n",
    "\n",
    "Pandas provides special purpose functions for working with specific common data types such as strings and dates. For example, the code below provides the length of every baby's name from our `babynames` dataset. "
   ]
  },
  {
   "cell_type": "code",
   "execution_count": null,
   "id": "f6a64d42",
   "metadata": {},
   "outputs": [],
   "source": [
    "babynames['Name'].str.len()"
   ]
  },
  {
   "cell_type": "markdown",
   "id": "853105c2",
   "metadata": {
    "deletable": false,
    "editable": false
   },
   "source": [
    "---\n",
    "### Question 6a"
   ]
  },
  {
   "cell_type": "markdown",
   "id": "97c06f66",
   "metadata": {
    "deletable": false,
    "editable": false
   },
   "source": [
    "Add a column to `babynames` named `First Letter` that contains the first letter of each baby's name.\n",
    "\n",
    "Hint: you can index using `.str` similarly to how you'd normally index Python strings. Or, you can use `.str.get` [(documentation here)](https://pandas.pydata.org/docs/reference/api/pandas.Series.str.get.html)."
   ]
  },
  {
   "cell_type": "code",
   "execution_count": null,
   "id": "8a7d9669",
   "metadata": {},
   "outputs": [],
   "source": [
    "babynames...\n",
    "# Show the result\n",
    "babynames"
   ]
  },
  {
   "cell_type": "code",
   "execution_count": null,
   "id": "ca6c20d2",
   "metadata": {
    "deletable": false,
    "editable": false
   },
   "outputs": [],
   "source": [
    "grader.check(\"q6a\")"
   ]
  },
  {
   "cell_type": "markdown",
   "id": "d45c0903",
   "metadata": {
    "deletable": false,
    "editable": false
   },
   "source": [
    "### Question 6b"
   ]
  },
  {
   "cell_type": "markdown",
   "id": "b6f40ad8",
   "metadata": {
    "deletable": false,
    "editable": false
   },
   "source": [
    "In 2022, how many babies had names that started with the letter \"A\"?"
   ]
  },
  {
   "cell_type": "code",
   "execution_count": null,
   "id": "62072c0f",
   "metadata": {},
   "outputs": [],
   "source": [
    "#- These prompts are just for your information.  You can solve this\n",
    "#- problem in any way you like.\n",
    "babynames_2022 = ...\n",
    "just_A_names_2022 = ...\n",
    "number_A_names = ...\n",
    "# Show the result\n",
    "number_A_names"
   ]
  },
  {
   "cell_type": "code",
   "execution_count": null,
   "id": "b7134b64",
   "metadata": {
    "deletable": false,
    "editable": false
   },
   "outputs": [],
   "source": [
    "grader.check(\"q6b\")"
   ]
  },
  {
   "cell_type": "markdown",
   "id": "dfb0b50b",
   "metadata": {},
   "source": [
    "<hr style=\"border: 5px solid #003262;\" />\n",
    "<hr style=\"border: 1px solid #fdb515;\" />"
   ]
  },
  {
   "cell_type": "markdown",
   "id": "4b58c503",
   "metadata": {},
   "source": [
    "## Pandas and Groupby"
   ]
  },
  {
   "cell_type": "markdown",
   "id": "e8447f3e",
   "metadata": {},
   "source": [
    "### Question Walk-Through\n",
    "\n",
    "This question is about about Pandas and Groupby. Here is a pre-recorded\n",
    "walkthrough of the notebook — we've only used the first question. We encourage\n",
    "you to reference this video as you work through the notebook. Run the cell\n",
    "below to display the videos."
   ]
  },
  {
   "cell_type": "code",
   "execution_count": null,
   "id": "3593b3c6",
   "metadata": {},
   "outputs": [],
   "source": [
    "from IPython.display import YouTubeVideo\n",
    "YouTubeVideo(\"hwRYs5ZRgW4\", list = 'PLQCcNQgUcDfqSg049DVFZCQbupMY5Bn5Z', listType = 'playlist')"
   ]
  },
  {
   "cell_type": "markdown",
   "id": "aed6c308",
   "metadata": {},
   "source": [
    "In this question, you will review commonly used data-wrangling operations\n",
    "/ tools in `Pandas`. We aim to give you familiarity with aggregating the data (using `.groupby`).\n",
    "\n",
    "In this notebook, you are going to use several `pandas` methods. Don't forget\n",
    "you can press `shift+tab` on method parameters to see the documentation for\n",
    "that method. For example, if you were using the `drop` method in `pandas`, you\n",
    "could press `shift+tab` to see what `drop` is expecting."
   ]
  },
  {
   "cell_type": "markdown",
   "id": "b106acdd",
   "metadata": {
    "nbgrader": {
     "grade": false,
     "grade_id": "cell-189595bbb3fcaa8e",
     "locked": true,
     "schema_version": 2,
     "solution": false
    }
   },
   "source": [
    "### **REVIEW:** `Groupby` and `Groupby` Shorthand\n",
    "\n",
    "Let's now turn to use `groupby`."
   ]
  },
  {
   "cell_type": "markdown",
   "id": "71d1b6a8",
   "metadata": {},
   "source": [
    "### Elections"
   ]
  },
  {
   "cell_type": "markdown",
   "id": "9036dcf4",
   "metadata": {},
   "source": [
    "Let's start by reading in a dataset on US elections."
   ]
  },
  {
   "cell_type": "code",
   "execution_count": null,
   "id": "05eaffa1",
   "metadata": {},
   "outputs": [],
   "source": [
    "# Run this cell to load data from CSV file; no further action is needed.\n",
    "elections = pd.read_csv(\"data/elections.csv\")\n",
    "elections.head(5)"
   ]
  },
  {
   "cell_type": "markdown",
   "id": "83fe106d",
   "metadata": {},
   "source": [
    "We can `groupby` a specific column, e.g., `\"Party\"` and can\n",
    "print out the resulting sub-DataFrames. The output below can help you get an\n",
    "understanding of what `groupby` is actually doing.\n",
    "\n",
    "An example is given below for elections since 1980."
   ]
  },
  {
   "cell_type": "code",
   "execution_count": null,
   "id": "f4cf5fb4",
   "metadata": {},
   "outputs": [],
   "source": [
    "# Run this cell to print sub-DataFrames of a groupby object; no further action is needed.\n",
    "for n, g in elections[elections[\"Year\"] >= 1980].groupby(\"Party\"):\n",
    "    print(f\"Name: {n}\") # By the way, this is an \"f string\", a relatively new and great feature of Python\n",
    "    display(g)"
   ]
  },
  {
   "cell_type": "markdown",
   "id": "6a215bb6",
   "metadata": {},
   "source": [
    "Recall that once we've formed groups, we can aggregate each sub-DataFrame\n",
    "(AKA group) into a single row using an aggregation function. For example, if\n",
    "we use `.agg('mean')` on the groups above, we get back a single `DataFrame`\n",
    "where each group has been replaced by a single row. In each column for that\n",
    "aggregate row, the value that appears is the average of all values in that\n",
    "group.\n",
    "\n",
    "For columns that are non-numeric, e.g., `\"Result\"`, the `pandas` version we're\n",
    "using will error because we cannot compute the mean of the `Result` column. To\n",
    "remedy this, we add a `numeric_only=True` argument to our function calls so\n",
    "that we only calculate the `mean` for columns that contain numeric values.\n",
    "Alternatively, we can manually select only the numerical columns before\n",
    "calling the `agg` function so the aggregation is only applied to numerical\n",
    "columns."
   ]
  },
  {
   "cell_type": "code",
   "execution_count": null,
   "id": "1121b574",
   "metadata": {},
   "outputs": [],
   "source": [
    "elections_after_1980 = elections[elections[\"Year\"] >= 1980]\n",
    "\n",
    "elections_after_1980.groupby(\"Party\").agg('mean', numeric_only=True)\n",
    "\n",
    "# alternatively, we can manually select only the numerical columns before\n",
    "# calling `agg`:\n",
    "# elections_after_1980.groupby(\"Party\")[['Year', 'Popular vote', '%']].agg('mean')"
   ]
  },
  {
   "cell_type": "markdown",
   "id": "1db24eb2",
   "metadata": {},
   "source": [
    "Equivalently we can use one of the shorthand aggregation functions, e.g. `.mean()`:"
   ]
  },
  {
   "cell_type": "code",
   "execution_count": null,
   "id": "3c029e34",
   "metadata": {},
   "outputs": [],
   "source": [
    "elections_after_1980.groupby(\"Party\").mean(numeric_only=True)"
   ]
  },
  {
   "cell_type": "markdown",
   "id": "cfdae58d",
   "metadata": {},
   "source": [
    "Note that the index of the `DataFrame` returned by an `groupby.agg` call is no\n",
    "longer a set of numeric indices from $0$ to $N-1$. Instead, we see that the\n",
    "index for the example above is now the `Party`. If we want to restore our\n",
    "`DataFrame` so that `Party` is a column rather than the index, we can use\n",
    "`reset_index`."
   ]
  },
  {
   "cell_type": "code",
   "execution_count": null,
   "id": "66f8e9b0",
   "metadata": {},
   "outputs": [],
   "source": [
    "elections_after_1980.groupby(\"Party\").mean(numeric_only=True).reset_index()"
   ]
  },
  {
   "cell_type": "markdown",
   "id": "3e4c076b",
   "metadata": {},
   "source": [
    "**IMPORTANT NOTE:** Notice that the code above consists of chained method\n",
    "calls. This sort of code is very common in `Pandas` programming and in data\n",
    "science in general. Such chained method calls can sometimes go many layers\n",
    "deep, so you might consider adding newlines between lines of code for clarity.\n",
    "For example, we could instead write the code above as:"
   ]
  },
  {
   "cell_type": "code",
   "execution_count": null,
   "id": "191f461d",
   "metadata": {},
   "outputs": [],
   "source": [
    "# pandas method chaining\n",
    "(\n",
    "elections.query(\"Year >= 1980\").groupby(\"Party\") \n",
    "                               .mean(numeric_only=True)  ## Computes the mean values by party\n",
    "                               .reset_index()            ## Resets to a numerical index\n",
    ")"
   ]
  },
  {
   "cell_type": "markdown",
   "id": "25b62061",
   "metadata": {},
   "source": [
    "Note that we have surrounded the entire call by a big set of parentheses so that `Python` doesn't complain about the indentation. An alternative is to use the \\ symbol to indicate to `Python` that your code continues on to the next line!"
   ]
  },
  {
   "cell_type": "code",
   "execution_count": null,
   "id": "62de8d63",
   "metadata": {},
   "outputs": [],
   "source": [
    "# pandas method chaining (alternative)\n",
    "elections[elections[\"Year\"] >= 1980].groupby(\"Party\") \\\n",
    "                               .mean(numeric_only=True) \\\n",
    "                               .reset_index()"
   ]
  },
  {
   "cell_type": "markdown",
   "id": "50209289",
   "metadata": {},
   "source": [
    "**IMPORTANT NOTE:** You should NEVER solve problems like the one above using loops or list comprehensions. This is slow and also misses the entire point of this part of Data 100. \n",
    "\n",
    "Before we continue, we'll print out the election dataset again for your\n",
    "convenience."
   ]
  },
  {
   "cell_type": "code",
   "execution_count": null,
   "id": "53d344eb",
   "metadata": {},
   "outputs": [],
   "source": [
    "elections.head(5)"
   ]
  },
  {
   "cell_type": "markdown",
   "id": "f64b1906",
   "metadata": {
    "deletable": false,
    "editable": false
   },
   "source": [
    "---\n",
    "\n",
    "### Question 2.1a\n",
    "\n",
    "Using `groupby.agg` or one of the shorthand methods (`groupby.min`, `groupby.first`, etc.), create a `Series` object `best_result_percentage_only` that returns a `Series` showing the entire best result for every party, sorted in decreasing order. Your `Series` should include only parties that have earned at least 10% of the vote in some election. Your result should look like this:\n",
    "\n",
    "<code>\n",
    "Party\n",
    "Democratic               61.344703\n",
    "Republican               60.907806\n",
    "Democratic-Republican    57.210122\n",
    "National Union           54.951512\n",
    "Whig                     53.051213\n",
    "Liberal Republican       44.071406\n",
    "National Republican      43.796073\n",
    "Northern Democratic      29.522311\n",
    "Progressive              27.457433\n",
    "American                 21.554001\n",
    "Independent              18.956298\n",
    "Southern Democratic      18.138998\n",
    "American Independent     13.571218\n",
    "Constitutional Union     12.639283\n",
    "Free Soil                10.138474\n",
    "Name: %, dtype: float64\n",
    "</code>\n",
    "<br/>\n",
    "\n",
    "A list of named `groupby.agg` shorthand methods are [here](https://pandas.pydata.org/pandas-docs/stable/user_guide/groupby.html#aggregation) (you'll have to scroll down about one page).\n"
   ]
  },
  {
   "cell_type": "code",
   "execution_count": null,
   "id": "02ca9d7c",
   "metadata": {},
   "outputs": [],
   "source": [
    "...\n",
    "best_result_percentage_only = ...\n",
    "# Show the result\n",
    "best_result_percentage_only"
   ]
  },
  {
   "cell_type": "code",
   "execution_count": null,
   "id": "3a2556ee",
   "metadata": {
    "deletable": false,
    "editable": false
   },
   "outputs": [],
   "source": [
    "grader.check(\"q7\")"
   ]
  },
  {
   "cell_type": "markdown",
   "id": "379141a7",
   "metadata": {},
   "source": [
    "## Congratulations! You have finished this notebook\n",
    "\n"
   ]
  },
  {
   "cell_type": "markdown",
   "id": "c68d2b11",
   "metadata": {
    "deletable": false,
    "editable": false
   },
   "source": [
    "\n",
    "## Submission\n",
    "\n",
    "Make sure you have run all cells in your notebook in order before running the cell below, so you can check your answers.\n"
   ]
  },
  {
   "cell_type": "code",
   "execution_count": null,
   "id": "81ef4370",
   "metadata": {},
   "outputs": [],
   "source": [
    "grader.check_all()"
   ]
  }
 ],
 "metadata": {
  "anaconda-cloud": {},
  "celltoolbar": "Create Assignment",
  "jupytext": {
   "notebook_metadata_filter": "all,-language_info",
   "split_at_heading": true,
   "text_representation": {
    "extension": ".Rmd",
    "format_name": "rmarkdown",
    "format_version": "1.2",
    "jupytext_version": "1.15.2"
   }
  },
  "kernelspec": {
   "display_name": "Python 3 (ipykernel)",
   "language": "python",
   "name": "python3"
  },
  "otter": {
   "OK_FORMAT": true,
   "tests": {
    "q1a": {
     "name": "q1a",
     "points": null,
     "suites": [
      {
       "cases": [
        {
         "code": ">>> fruit_info[\"rank1\"].dtype\ndtype('int64')",
         "hidden": false,
         "locked": false
        },
        {
         "code": ">>> sorted(fruit_info[\"rank1\"].dropna())\n[1, 2, 3, 4]",
         "hidden": false,
         "locked": false
        }
       ],
       "scored": true,
       "setup": "",
       "teardown": "",
       "type": "doctest"
      }
     ]
    },
    "q1b": {
     "name": "q1b",
     "points": null,
     "suites": [
      {
       "cases": [
        {
         "code": ">>> fruit_info[\"rank2\"].dtype\ndtype('int64')",
         "hidden": false,
         "locked": false
        },
        {
         "code": ">>> fruit_info[\"rank2\"] == fruit_info[\"rank1\"]\n0    True\n1    True\n2    True\n3    True\ndtype: bool",
         "hidden": false,
         "locked": false
        }
       ],
       "scored": true,
       "setup": "",
       "teardown": "",
       "type": "doctest"
      }
     ]
    },
    "q2": {
     "name": "q2",
     "points": null,
     "suites": [
      {
       "cases": [
        {
         "code": ">>> fruit_info_original.shape\n(4, 3)",
         "hidden": false,
         "locked": false
        },
        {
         "code": ">>> fruit_info.shape\n(4, 5)",
         "hidden": false,
         "locked": false
        },
        {
         "code": ">>> fruit_info_original.columns\nIndex(['fruit', 'color', 'price'], dtype='object')",
         "hidden": false,
         "locked": false
        }
       ],
       "scored": true,
       "setup": "",
       "teardown": "",
       "type": "doctest"
      }
     ]
    },
    "q3": {
     "name": "q3",
     "points": null,
     "suites": [
      {
       "cases": [
        {
         "code": ">>> fruit_info_caps.columns\nIndex(['Fruit', 'Color', 'Price'], dtype='object')",
         "hidden": false,
         "locked": false
        },
        {
         "code": ">>> fruit_info.columns\nIndex(['fruit', 'color', 'price', 'rank1', 'rank2'], dtype='object')",
         "hidden": false,
         "locked": false
        }
       ],
       "scored": true,
       "setup": "",
       "teardown": "",
       "type": "doctest"
      }
     ]
    },
    "q4a": {
     "name": "q4a",
     "points": null,
     "suites": [
      {
       "cases": [
        {
         "code": ">>> name_and_year.shape\n(6408041, 2)",
         "hidden": false,
         "locked": false
        },
        {
         "code": ">>> name_and_year.loc[0, \"Name\"]\n'Mary'",
         "hidden": false,
         "locked": false
        },
        {
         "code": ">>> name_and_year.loc[0, \"Year\"] \n1910",
         "hidden": false,
         "locked": false
        }
       ],
       "scored": true,
       "setup": "",
       "teardown": "",
       "type": "doctest"
      }
     ]
    },
    "q4b": {
     "name": "q4b",
     "points": null,
     "suites": [
      {
       "cases": [
        {
         "code": ">>> name_and_year.shape\n(6408041, 2)",
         "hidden": false,
         "locked": false
        },
        {
         "code": ">>> name_and_year.loc[0, \"Name\"]\n'Mary'",
         "hidden": false,
         "locked": false
        },
        {
         "code": ">>> name_and_year.loc[0, \"Year\"] \n1910",
         "hidden": false,
         "locked": false
        }
       ],
       "scored": true,
       "setup": "",
       "teardown": "",
       "type": "doctest"
      }
     ]
    },
    "q5": {
     "name": "q5",
     "points": null,
     "suites": [
      {
       "cases": [
        {
         "code": ">>> len(result)\n11",
         "hidden": false,
         "locked": false
        },
        {
         "code": ">>> result[\"Count\"].sum()\n39001",
         "hidden": false,
         "locked": false
        },
        {
         "code": ">>> result[\"Count\"].iloc[0]\n4342",
         "hidden": false,
         "locked": false
        }
       ],
       "scored": true,
       "setup": "",
       "teardown": "",
       "type": "doctest"
      }
     ]
    },
    "q6a": {
     "name": "q6a",
     "points": null,
     "suites": [
      {
       "cases": [
        {
         "code": ">>> 'First Letter' in babynames.columns\nTrue",
         "hidden": false,
         "locked": false
        },
        {
         "code": ">>> babynames['First Letter'].equals(babynames['Name'].str[0])\nTrue",
         "hidden": false,
         "locked": false
        }
       ],
       "scored": true,
       "setup": "",
       "teardown": "",
       "type": "doctest"
      }
     ]
    },
    "q6b": {
     "name": "q6b",
     "points": null,
     "suites": [
      {
       "cases": [
        {
         "code": ">>> years_2022 = babynames_2022['Year'].unique()\n>>> assert all(2022 == years_2022)\n",
         "hidden": false,
         "locked": false
        },
        {
         "code": ">>> assert number_A_names == 12911\n",
         "hidden": false,
         "locked": false
        }
       ],
       "scored": true,
       "setup": "",
       "teardown": "",
       "type": "doctest"
      }
     ]
    },
    "q7": {
     "name": "q7",
     "points": null,
     "suites": [
      {
       "cases": [
        {
         "code": ">>> len(best_result_percentage_only)\n15",
         "hidden": false,
         "locked": false
        },
        {
         "code": ">>> best_result_percentage_only[\"Independent\"].sum()\n18.95629754",
         "hidden": false,
         "locked": false
        },
        {
         "code": ">>> best_result_percentage_only.iloc[0]\n61.34470329",
         "hidden": false,
         "locked": false
        }
       ],
       "scored": true,
       "setup": "",
       "teardown": "",
       "type": "doctest"
      }
     ]
    }
   }
  }
 },
 "nbformat": 4,
 "nbformat_minor": 5
}
